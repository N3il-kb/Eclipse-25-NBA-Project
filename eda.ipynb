{
 "cells": [
  {
   "cell_type": "code",
   "execution_count": 2,
   "id": "b1ec0ef0",
   "metadata": {},
   "outputs": [],
   "source": [
    "import pandas as pd\n",
    "from nba_api.stats.endpoints import playercareerstats\n",
    "from nba_api.stats.static import players\n",
    "from nba_api.stats.static import teams"
   ]
  },
  {
   "cell_type": "code",
   "execution_count": 3,
   "id": "0ce56e7a",
   "metadata": {},
   "outputs": [],
   "source": [
    "# Define the list of 30 NBA teams in a list\n",
    "nba_teams = teams.get_teams()\n",
    "all_teams  = []\n",
    "for team in nba_teams:\n",
    "    all_teams.append(team['full_name'])"
   ]
  },
  {
   "cell_type": "code",
   "execution_count": 8,
   "id": "eabc408c",
   "metadata": {},
   "outputs": [
    {
     "data": {
      "text/plain": [
       "['Atlanta Hawks',\n",
       " 'Boston Celtics',\n",
       " 'Cleveland Cavaliers',\n",
       " 'New Orleans Pelicans',\n",
       " 'Chicago Bulls',\n",
       " 'Dallas Mavericks',\n",
       " 'Denver Nuggets',\n",
       " 'Golden State Warriors',\n",
       " 'Houston Rockets',\n",
       " 'Los Angeles Clippers',\n",
       " 'Los Angeles Lakers',\n",
       " 'Miami Heat',\n",
       " 'Milwaukee Bucks',\n",
       " 'Minnesota Timberwolves',\n",
       " 'Brooklyn Nets',\n",
       " 'New York Knicks',\n",
       " 'Orlando Magic',\n",
       " 'Indiana Pacers',\n",
       " 'Philadelphia 76ers',\n",
       " 'Phoenix Suns',\n",
       " 'Portland Trail Blazers',\n",
       " 'Sacramento Kings',\n",
       " 'San Antonio Spurs',\n",
       " 'Oklahoma City Thunder',\n",
       " 'Toronto Raptors',\n",
       " 'Utah Jazz',\n",
       " 'Memphis Grizzlies',\n",
       " 'Washington Wizards',\n",
       " 'Detroit Pistons',\n",
       " 'Charlotte Hornets']"
      ]
     },
     "execution_count": 8,
     "metadata": {},
     "output_type": "execute_result"
    }
   ],
   "source": [
    "all_teams"
   ]
  },
  {
   "cell_type": "code",
   "execution_count": null,
   "id": "aabddece",
   "metadata": {},
   "outputs": [
    {
     "ename": "TypeError",
     "evalue": "CumeStatsTeam.__init__() missing 1 required positional argument: 'game_ids'",
     "output_type": "error",
     "traceback": [
      "\u001b[0;31m---------------------------------------------------------------------------\u001b[0m",
      "\u001b[0;31mTypeError\u001b[0m                                 Traceback (most recent call last)",
      "Cell \u001b[0;32mIn[14], line 2\u001b[0m\n\u001b[1;32m      1\u001b[0m \u001b[38;5;28;01mfrom\u001b[39;00m \u001b[38;5;21;01mnba_api\u001b[39;00m\u001b[38;5;21;01m.\u001b[39;00m\u001b[38;5;21;01mstats\u001b[39;00m\u001b[38;5;21;01m.\u001b[39;00m\u001b[38;5;21;01mendpoints\u001b[39;00m \u001b[38;5;28;01mimport\u001b[39;00m cumestatsteam\n\u001b[0;32m----> 2\u001b[0m \u001b[43mcumestatsteam\u001b[49m\u001b[38;5;241;43m.\u001b[39;49m\u001b[43mCumeStatsTeam\u001b[49m\u001b[43m(\u001b[49m\u001b[43mseason_type_all_star\u001b[49m\u001b[38;5;241;43m=\u001b[39;49m\u001b[38;5;124;43m'\u001b[39;49m\u001b[38;5;124;43mRegular Season\u001b[39;49m\u001b[38;5;124;43m'\u001b[39;49m\u001b[43m,\u001b[49m\u001b[43m \u001b[49m\u001b[43mteam_id\u001b[49m\u001b[38;5;241;43m=\u001b[39;49m\u001b[38;5;124;43m'\u001b[39;49m\u001b[38;5;124;43mGolden State Warriors\u001b[39;49m\u001b[38;5;124;43m'\u001b[39;49m\u001b[43m)\u001b[49m\n",
      "\u001b[0;31mTypeError\u001b[0m: CumeStatsTeam.__init__() missing 1 required positional argument: 'game_ids'"
     ]
    }
   ],
   "source": [
    "from nba_api.stats.endpoints import cumestatsteam\n",
    "from nba_api.stats.endpoints import leaguedashteamstats\n",
    "cumestatsteam.CumeStatsTeam()"
   ]
  }
 ],
 "metadata": {
  "kernelspec": {
   "display_name": "Python 3",
   "language": "python",
   "name": "python3"
  },
  "language_info": {
   "codemirror_mode": {
    "name": "ipython",
    "version": 3
   },
   "file_extension": ".py",
   "mimetype": "text/x-python",
   "name": "python",
   "nbconvert_exporter": "python",
   "pygments_lexer": "ipython3",
   "version": "3.12.1"
  }
 },
 "nbformat": 4,
 "nbformat_minor": 5
}
