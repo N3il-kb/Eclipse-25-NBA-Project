{
 "cells": [
  {
   "cell_type": "code",
   "execution_count": 4,
   "metadata": {},
   "outputs": [],
   "source": [
    "import numpy as np"
   ]
  },
  {
   "cell_type": "code",
   "execution_count": 2,
   "metadata": {},
   "outputs": [],
   "source": [
    "short_yr_lst = [2024, 2023, 2022, 2021, 2020]\n",
    "long_yr_lst = [2024, 2023, 2022, 2021, 2020, 2019, 2018, 2017, 2016, 2015]"
   ]
  },
  {
   "cell_type": "code",
   "execution_count": 3,
   "metadata": {},
   "outputs": [
    {
     "data": {
      "text/plain": [
       "[2022, 2021, 2024]"
      ]
     },
     "execution_count": 3,
     "metadata": {},
     "output_type": "execute_result"
    }
   ],
   "source": [
    "list(np.random.choice(short_yr_lst, size = 3, replace = False))"
   ]
  },
  {
   "cell_type": "markdown",
   "metadata": {},
   "source": [
    "## Chosen short-term years: 2021, 2022, 2024"
   ]
  },
  {
   "cell_type": "code",
   "execution_count": 5,
   "metadata": {},
   "outputs": [
    {
     "data": {
      "text/plain": [
       "[2015, 2019, 2017]"
      ]
     },
     "execution_count": 5,
     "metadata": {},
     "output_type": "execute_result"
    }
   ],
   "source": [
    "list(np.random.choice(long_yr_lst, size = 3, replace = False))"
   ]
  },
  {
   "cell_type": "markdown",
   "metadata": {},
   "source": [
    "## Chosen short-term years: 2021, 2022, 2024"
   ]
  },
  {
   "cell_type": "markdown",
   "metadata": {},
   "source": [
    "|Year| Link |\n",
    "|----|------|\n",
    "|2015| https://www.si.com/nba/2015/06/25/nba-draft-grades-results-analysis-wolves-lakers-76ers-knicks|\n",
    "|2019| https://www.si.com/nba/2019/06/21/nba-draft-grades-picks-tracker-zion-williamson-ja-morant-rj-barrett|\n",
    "|2021| https://www.si.com/nba/2021/07/30/2021-nba-draft-grades-analysis-cade-cunningham-jalen-green-evan-mobley|\n",
    "|2022| https://www.si.com/nba/2022/06/24/2022-nba-draft-grades-analysis-magic-thunder-rockets|\n",
    "|2024| https://www.si.com/nba/draft/newsfeed/2024-nba-draft-grading-all-30-first-round-picks-01j1bwtppc79|\n",
    "\n"
   ]
  }
 ],
 "metadata": {
  "kernelspec": {
   "display_name": "Python 3",
   "language": "python",
   "name": "python3"
  },
  "language_info": {
   "codemirror_mode": {
    "name": "ipython",
    "version": 3
   },
   "file_extension": ".py",
   "mimetype": "text/x-python",
   "name": "python",
   "nbconvert_exporter": "python",
   "pygments_lexer": "ipython3",
   "version": "3.13.1"
  }
 },
 "nbformat": 4,
 "nbformat_minor": 2
}
