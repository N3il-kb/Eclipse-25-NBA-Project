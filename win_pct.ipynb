{
 "cells": [
  {
   "cell_type": "code",
   "execution_count": 3,
   "id": "89be4a9a",
   "metadata": {},
   "outputs": [
    {
     "name": "stderr",
     "output_type": "stream",
     "text": [
      "/Users/felixwu/Library/Python/3.9/lib/python/site-packages/urllib3/__init__.py:35: NotOpenSSLWarning: urllib3 v2 only supports OpenSSL 1.1.1+, currently the 'ssl' module is compiled with 'LibreSSL 2.8.3'. See: https://github.com/urllib3/urllib3/issues/3020\n",
      "  warnings.warn(\n"
     ]
    }
   ],
   "source": [
    "#import from api\n",
    "from nba_api.stats.endpoints._base import Endpoint\n",
    "from nba_api.stats.library.http import NBAStatsHTTP\n",
    "from nba_api.stats.endpoints import cumestatsteam\n",
    "from nba_api.stats.static import teams\n",
    "from nba_api.stats.endpoints import teamyearbyyearstats"
   ]
  },
  {
   "cell_type": "code",
   "execution_count": null,
   "id": "a8d40853",
   "metadata": {},
   "outputs": [
    {
     "name": "stdout",
     "output_type": "stream",
     "text": [
      "Index(['TEAM_ID', 'TEAM_CITY', 'TEAM_NAME', 'YEAR', 'GP', 'WINS', 'LOSSES',\n",
      "       'WIN_PCT', 'CONF_RANK', 'DIV_RANK', 'PO_WINS', 'PO_LOSSES',\n",
      "       'CONF_COUNT', 'DIV_COUNT', 'NBA_FINALS_APPEARANCE', 'FGM', 'FGA',\n",
      "       'FG_PCT', 'FG3M', 'FG3A', 'FG3_PCT', 'FTM', 'FTA', 'FT_PCT', 'OREB',\n",
      "       'DREB', 'REB', 'AST', 'PF', 'STL', 'TOV', 'BLK', 'PTS', 'PTS_RANK'],\n",
      "      dtype='object')\n"
     ]
    }
   ],
   "source": [
    "number_of_teams = 30\n",
    "short = ['2021-22', '2022-23', '2023-24']\n",
    "long = ['2014-15', '2015-16', '2016-17', '2017-18', '2018-19', '2019-20', '2020-21', '2021-22', '2022-23', '2023-24']\n",
    "short_term_winp = {season: {} for season in short}\n",
    "long_term_winp = {season: {} for season in long}\n",
    "all_teams = teams.get_teams()"
   ]
  },
  {
   "cell_type": "code",
   "execution_count": 7,
   "id": "cc3bfc24",
   "metadata": {},
   "outputs": [],
   "source": [
    "for team in all_teams:\n",
    "    team_id = team['id']\n",
    "    team_name = team['full_name']\n",
    "\n",
    "    stat = teamyearbyyearstats.TeamYearByYearStats(team_id=team_id)\n",
    "    data = stat.get_data_frames()[0]\n",
    "\n",
    "    for season in short:\n",
    "        rows = data[(data['YEAR'] == season)]\n",
    "        if not rows.empty:\n",
    "            wins = int(rows['WINS'].values[0])\n",
    "            losses = int(rows['LOSSES'].values[0])\n",
    "            win_percent = wins / (wins + losses)\n",
    "\n",
    "            short_term_winp[season][team_name] = round(win_percent, 3)\n",
    "\n",
    "    for season in long:\n",
    "        rows = data[(data['YEAR'] == season)]\n",
    "        if not rows.empty:\n",
    "            wins = int(rows['WINS'].values[0])\n",
    "            losses = int(rows['LOSSES'].values[0])\n",
    "            win_percent = wins / (wins + losses)\n",
    "\n",
    "            long_term_winp[season][team_name] = round(win_percent, 3)"
   ]
  },
  {
   "cell_type": "code",
   "execution_count": 8,
   "id": "60ee62be",
   "metadata": {},
   "outputs": [
    {
     "name": "stdout",
     "output_type": "stream",
     "text": [
      "Short term (2022-23):\n",
      "{'Atlanta Hawks': 0.5, 'Boston Celtics': 0.695, 'Cleveland Cavaliers': 0.622, 'New Orleans Pelicans': 0.512, 'Chicago Bulls': 0.488, 'Dallas Mavericks': 0.463, 'Denver Nuggets': 0.646, 'Golden State Warriors': 0.537, 'Houston Rockets': 0.268, 'Los Angeles Clippers': 0.537, 'Los Angeles Lakers': 0.524, 'Miami Heat': 0.537, 'Milwaukee Bucks': 0.707, 'Minnesota Timberwolves': 0.512, 'Brooklyn Nets': 0.549, 'New York Knicks': 0.573, 'Orlando Magic': 0.415, 'Indiana Pacers': 0.427, 'Philadelphia 76ers': 0.659, 'Phoenix Suns': 0.549, 'Portland Trail Blazers': 0.402, 'Sacramento Kings': 0.585, 'San Antonio Spurs': 0.268, 'Oklahoma City Thunder': 0.488, 'Toronto Raptors': 0.5, 'Utah Jazz': 0.451, 'Memphis Grizzlies': 0.622, 'Washington Wizards': 0.427, 'Detroit Pistons': 0.207, 'Charlotte Hornets': 0.329}\n",
      "\n",
      "Long term (2019-20):\n",
      "{'Atlanta Hawks': 0.299, 'Boston Celtics': 0.667, 'Cleveland Cavaliers': 0.292, 'New Orleans Pelicans': 0.417, 'Chicago Bulls': 0.338, 'Dallas Mavericks': 0.573, 'Denver Nuggets': 0.63, 'Golden State Warriors': 0.231, 'Houston Rockets': 0.611, 'Los Angeles Clippers': 0.681, 'Los Angeles Lakers': 0.732, 'Miami Heat': 0.603, 'Milwaukee Bucks': 0.767, 'Minnesota Timberwolves': 0.297, 'Brooklyn Nets': 0.486, 'New York Knicks': 0.318, 'Orlando Magic': 0.452, 'Indiana Pacers': 0.616, 'Philadelphia 76ers': 0.589, 'Phoenix Suns': 0.466, 'Portland Trail Blazers': 0.473, 'Sacramento Kings': 0.431, 'San Antonio Spurs': 0.451, 'Oklahoma City Thunder': 0.611, 'Toronto Raptors': 0.736, 'Utah Jazz': 0.611, 'Memphis Grizzlies': 0.466, 'Washington Wizards': 0.347, 'Detroit Pistons': 0.303, 'Charlotte Hornets': 0.354}\n"
     ]
    }
   ],
   "source": [
    "print(\"Short term (2022-23):\")\n",
    "print(short_term_winp['2022-23'])\n",
    "\n",
    "print(\"\\nLong term (2019-20):\")\n",
    "print(long_term_winp['2019-20'])"
   ]
  }
 ],
 "metadata": {
  "kernelspec": {
   "display_name": "Python 3",
   "language": "python",
   "name": "python3"
  },
  "language_info": {
   "codemirror_mode": {
    "name": "ipython",
    "version": 3
   },
   "file_extension": ".py",
   "mimetype": "text/x-python",
   "name": "python",
   "nbconvert_exporter": "python",
   "pygments_lexer": "ipython3",
   "version": "3.9.6"
  }
 },
 "nbformat": 4,
 "nbformat_minor": 5
}
